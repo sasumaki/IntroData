{
 "cells": [
  {
   "cell_type": "code",
   "execution_count": 1,
   "metadata": {},
   "outputs": [
    {
     "ename": "ImportError",
     "evalue": "No module named 'matplotlib'",
     "output_type": "error",
     "traceback": [
      "\u001b[0;31m---------------------------------------------------------------------------\u001b[0m",
      "\u001b[0;31mImportError\u001b[0m                               Traceback (most recent call last)",
      "\u001b[0;32m<ipython-input-1-ff8447d38c51>\u001b[0m in \u001b[0;36m<module>\u001b[0;34m()\u001b[0m\n\u001b[1;32m      1\u001b[0m \u001b[0;31m# Kirjastoja ym asetuksia\u001b[0m\u001b[0;34m\u001b[0m\u001b[0;34m\u001b[0m\u001b[0m\n\u001b[1;32m      2\u001b[0m \u001b[0;31m# Python modules\u001b[0m\u001b[0;34m\u001b[0m\u001b[0;34m\u001b[0m\u001b[0m\n\u001b[0;32m----> 3\u001b[0;31m \u001b[0;32mimport\u001b[0m \u001b[0mmatplotlib\u001b[0m\u001b[0;34m.\u001b[0m\u001b[0mpyplot\u001b[0m \u001b[0;32mas\u001b[0m \u001b[0mplt\u001b[0m\u001b[0;34m\u001b[0m\u001b[0m\n\u001b[0m\u001b[1;32m      4\u001b[0m \u001b[0mget_ipython\u001b[0m\u001b[0;34m(\u001b[0m\u001b[0;34m)\u001b[0m\u001b[0;34m.\u001b[0m\u001b[0mrun_line_magic\u001b[0m\u001b[0;34m(\u001b[0m\u001b[0;34m'matplotlib'\u001b[0m\u001b[0;34m,\u001b[0m \u001b[0;34m'inline'\u001b[0m\u001b[0;34m)\u001b[0m\u001b[0;34m\u001b[0m\u001b[0m\n\u001b[1;32m      5\u001b[0m \u001b[0;32mimport\u001b[0m \u001b[0mpandas\u001b[0m \u001b[0;32mas\u001b[0m \u001b[0mpd\u001b[0m\u001b[0;34m\u001b[0m\u001b[0m\n",
      "\u001b[0;31mImportError\u001b[0m: No module named 'matplotlib'"
     ]
    }
   ],
   "source": [
    "# Kirjastoja ym asetuksia\n",
    "# Python modules\n",
    "import matplotlib.pyplot as plt\n",
    "%matplotlib inline\n",
    "import pandas as pd\n",
    "import numpy as np\n",
    "import geopandas as gpd\n",
    "from shapely.geometry import Point\n",
    "\n",
    "# Own modules\n",
    "import readFiles\n",
    "\n",
    "# Get current size\n",
    "fig_size = plt.rcParams[\"figure.figsize\"]\n",
    " \n",
    "# Prints: [8.0, 6.0]\n",
    "print (\"Current size:\", fig_size)\n",
    " \n",
    "# Set figure width to 12 and height to 9\n",
    "fig_size[0] = 12\n",
    "fig_size[1] = 9\n",
    "plt.rcParams[\"figure.figsize\"] = fig_size\n",
    "print (\"Current size:\", fig_size)\n"
   ]
  },
  {
   "cell_type": "code",
   "execution_count": null,
   "metadata": {
    "collapsed": true
   },
   "outputs": [],
   "source": [
    "# Väestöruudut, kunnat sisäänluku\n",
    "data = gpd.read_file(r\"C:\\Users\\Suvi\\Dropbox\\Tilastotieteen opinnot\\Introduction to data science\\miniproject\\IntroData\\vaki2016.json\")\n",
    "kunnat=gpd.read_file(r\"C:\\Users\\Suvi\\Dropbox\\Tilastotieteen opinnot\\Introduction to data science\\miniproject\\IntroData\\kunnat.json\")\n",
    "pksVector=pd.DataFrame(['049','091','092'])\n",
    "pksVector.columns=['kunta']\n",
    "kunnat3=pd.merge(kunnat, pksVector, on='kunta')\n",
    "data3=pd.merge(data, pksVector, on='kunta')"
   ]
  },
  {
   "cell_type": "code",
   "execution_count": null,
   "metadata": {
    "collapsed": true
   },
   "outputs": [],
   "source": [
    "# Rakennusdata samaan tiedostoon ja koordinaattisysteemiin\n",
    "crs0={'init': 'epsg:3067'}\n",
    "rakVan=gpd.read_file(\"vanRak.json\", crs=crs0)\n",
    "rakEsp=gpd.read_file(\"espRak.json\", crs=crs0)\n",
    "rakHel=gpd.GeoDataFrame.from_file(r\"rakennukset2012\\rakennukset_Helsinki_wgs84\\rakennukset_Helsinki_06_2012_wgs84.TAB\", crs=crs0)\n",
    "rakVan=rakVan.to_crs({'init': 'epsg:3067'})\n",
    "rakHel=rakHel.to_crs({'init': 'epsg:3067'})\n",
    "rakEsp=rakEsp.to_crs({'init': 'epsg:3067'})\n",
    "\n",
    "# Osoite, käyttötarkoituskoodi, geometry\n",
    "# Parsitaan Espoolle ja Vantaalle kirjainkoodit\n",
    "kayttoluokitus0=pd.read_table('kayttotarkoitusluokitus.txt', index_col=False, sep='\\t', skiprows=1, header=None)\n",
    "kayttoluokitus0.columns=['koodi', 'selite']\n",
    "kaytto, selite = '', ''\n",
    "kayttoluokitus=pd.DataFrame(columns=['koodi', 'selite','koodiPitka','selitePitka', 'koodiPitkaNum'], dtype=str)\n",
    "for index, row in kayttoluokitus0.iterrows():\n",
    "    if row['koodi'].isalpha():\n",
    "        koodi=row['koodi']\n",
    "        selite=row['selite']\n",
    "    else:\n",
    "        koodiPitka=row['koodi']\n",
    "        selitePitka=row['selite']\n",
    "        kayttoluokitus.loc[index, 'koodi']=koodi\n",
    "        kayttoluokitus.loc[index, 'selite']=selite\n",
    "        kayttoluokitus.loc[index, 'koodiPitka']=koodiPitka\n",
    "        kayttoluokitus.loc[index, 'selitePitka']=selitePitka\n",
    "        kayttoluokitus.loc[index, 'koodiPitkaNum']=int(koodiPitka)\n",
    "kayttoluokitus.drop_duplicates('koodiPitkaNum', inplace=True)\n",
    "\n",
    "# Espoo\n",
    "rakEsp=pd.merge(rakEsp, kayttoluokitus[['koodi', 'koodiPitkaNum']], left_on='kayttotarkoitusnumero', right_on='koodiPitkaNum')\n",
    "rakEsp['osoite']=rakEsp.katunimi + ' ' +rakEsp.osoitenumero + ' Espoo'\n",
    "rakEsp1=rakEsp[['koodi','osoite','geometry']]\n",
    "rakEsp1.columns=['koodi','osoite','building']\n",
    "# Vantaa\n",
    "rakVan=pd.merge(rakVan, kayttoluokitus[['koodi', 'koodiPitka']], left_on='käyttötarkoitus_koodi', right_on='koodiPitka')\n",
    "rakVan['osoite']=rakVan.katuosoite_suomeksi + ' Vantaa'\n",
    "rakVan1=rakVan[['koodi', 'osoite', 'geometry']]\n",
    "rakVan1.columns=['koodi','osoite','building']\n",
    "#  HElsinki\n",
    "rakHel1=rakHel[[\"kayttotark_t1koodi\", \"Osoite\", \"geometry\"]]\n",
    "rakHel1.columns=['koodi', 'osoite', 'building']\n",
    "rak=pd.concat((rakEsp1, rakVan1,rakHel1))\n",
    "rak=rak.set_geometry('building')\n",
    "print(\"Rakennusten geometriasarake: \", rak.geometry.name)\n",
    "#rak['geometry2']=rak.centroid\n",
    "#Geometrian vaihto, jos tarpeen käyttää rakennusten keskipisteitä\n",
    "#rak=rak.set_geometry('geometry2')"
   ]
  },
  {
   "cell_type": "code",
   "execution_count": null,
   "metadata": {
    "collapsed": true
   },
   "outputs": [],
   "source": [
    "# Klusterointi\n",
    "from scipy.cluster.vq import kmeans2\n",
    "def kmeansInput(input0, weightVar):\n",
    "    output0=np.array(input0[['xkoord', 'ykoord', weightVar]])\n",
    "    output0=np.repeat(output0, output0[:,2], axis=0)\n",
    "    output0=output0[:,:2] * 1.0\n",
    "    return output0\n",
    "\n",
    "# weight vars: 'vaesto', 'miehet', 'naiset','ika_0_14', 'ika_15_64', 'ika_65_'\n",
    "weightedData=kmeansInput(data3, 'vaesto')\n",
    "# 1 106 066 henkilöä\n",
    "result=kmeans2(weightedData, 5)"
   ]
  },
  {
   "cell_type": "code",
   "execution_count": null,
   "metadata": {},
   "outputs": [],
   "source": [
    "# Plotataan\n",
    "base=kunnat3.plot(color='white', edgecolor='black', linewidth=2)\n",
    "data3.plot(ax=base, column=\"vaesto\",markersize=150, alpha=0.5, cmap='viridis', scheme='fisher_jenks', k=5)\n",
    "tulos=np.array(result[0])\n",
    "plt.plot(tulos[:,0], tulos[:,1], 'D', markersize=15,markerfacecolor='red')\n",
    "plt.axis('off')"
   ]
  },
  {
   "cell_type": "code",
   "execution_count": null,
   "metadata": {
    "collapsed": true
   },
   "outputs": [],
   "source": [
    "resultPoints=pd.DataFrame(tulos, columns=['x', 'y'])\n",
    "resultPoints['suggestion']=resultPoints.apply(lambda row: Point(row[\"x\"], row[\"y\"]), axis=1)\n",
    "crs0 = {'init': 'epsg:3067'}\n",
    "resultPoints=gpd.GeoDataFrame(resultPoints, crs=crs0, geometry='suggestion')"
   ]
  },
  {
   "cell_type": "markdown",
   "metadata": {},
   "source": [
    "# Käyttöluokitus\n",
    "koodi\tselite\n",
    "\n",
    "A\tAsuinrakennukset\n",
    "B\tVapaa-ajan asuinrakennukset\n",
    "C\tLiikerakennukset\n",
    "D\tToimistorakennukset\n",
    "E\tLiikenteen rakennukset\n",
    "F\tHoitoalan rakennukset\n",
    "G\tKokoontumisrakennukset\n",
    "H\tOpetusrakennukset\n",
    "J\tTeollisuusrakennukset\n",
    "K\tVarastorakennukset\n",
    "L\tPalo- ja pelastustoimen rakennukset\n",
    "M\tMaatalousrakennukset\n",
    "N\tMuut rakennukset"
   ]
  },
  {
   "cell_type": "code",
   "execution_count": null,
   "metadata": {},
   "outputs": [],
   "source": [
    "rakennusTyyppi='D'\n",
    "# plot 5 nearest locations\n",
    "def placeSuggestions(points, buildings, nSuggestions=5):\n",
    "    returnFrame=pd.DataFrame()\n",
    "    for j in range(len(points)):\n",
    "        print(\"round starts \", j)\n",
    "        returnFrame0=pd.DataFrame() \n",
    "        point0=gpd.GeoDataFrame([points.iloc[j]], geometry='suggestion')\n",
    "        #lasketaan rakennuksille etäisyydet\n",
    "        for i in range(len(buildings)):\n",
    "            point00=point0['suggestion'].iloc[0]\n",
    "            px, py=point00.centroid.coords.xy\n",
    "            building0=buildings['building'].iloc[i]\n",
    "            bx, by=building0.centroid.coords.xy\n",
    "            dist=np.sqrt( (px[0]-bx[0])**2 + (py[0]-by[0])**2 )\n",
    "            returnFrame0=returnFrame0.append(([[j, i, dist, building0, point00]]))\n",
    "        returnFrame=returnFrame.append(returnFrame0.nsmallest(nSuggestions, 2))\n",
    "        print(\"round ends \", j)\n",
    "    returnFrame.columns=['pointIndex', 'buildingIndex', 'dist', 'building', 'point']\n",
    "    return returnFrame\n",
    "\n",
    "retVal=placeSuggestions(resultPoints, rak[rak['koodi']==rakennusTyyppi])\n",
    "#rak=rak[['koodi', 'osoite', 'building']]\n",
    "#test0=pd.DataFrame(rak)\n",
    "#test0['test']=0\n",
    "#print(rak.columns)\n",
    "#print(test0.columns)"
   ]
  },
  {
   "cell_type": "code",
   "execution_count": null,
   "metadata": {},
   "outputs": [],
   "source": [
    "buildingSuggestions=gpd.GeoDataFrame(retVal[['pointIndex','building']], geometry='building', crs=crs0)\n",
    "points=gpd.GeoDataFrame(retVal[['pointIndex','point']], geometry='point', crs=crs0)\n",
    "base=buildingSuggestions[buildingSuggestions['pointIndex']==3].plot()\n",
    "points[points['pointIndex']==3].plot(ax=base)\n",
    "#kunnat3.plot(color='white', edgecolor='black')\n"
   ]
  },
  {
   "cell_type": "code",
   "execution_count": null,
   "metadata": {
    "collapsed": true
   },
   "outputs": [],
   "source": [
    "vakiKunnat=pd.read_csv(r\"C:\\Users\\Suvi\\Dropbox\\Tilastotieteen opinnot\\Introduction to data science\\miniproject\\IntroData\\vaerak_004_201600.csv\",sep=';', header=1, encoding = \"ISO-8859-1\", dtype={'Alue': object})\n",
    "vakiKunnat.columns=['sp','alue', 'ika', 'vuosi', 'vaesto']\n",
    "vakiKunnat=vakiKunnat[['alue', 'ika', 'vuosi', 'vaesto']]\n",
    "# Helsinki, Espoo, Kauniainen, Vantaa, Kerava, Sipoo ja Kirkkonummi\n",
    "pksVector=pd.DataFrame(['049','091','092'])\n",
    "pksVector.columns=['alue']\n",
    "vakiKunnat=pd.merge(vakiKunnat, pksVector, on='alue')\n",
    "vakiKunnat.head()\n",
    "kunnat=pd.merge(kunnat, pksVector, how='inner', left_on=\"kunta\", right_on=\"alue\")"
   ]
  },
  {
   "cell_type": "code",
   "execution_count": null,
   "metadata": {
    "collapsed": true
   },
   "outputs": [],
   "source": [
    "vakiKunnat2=pd.merge(kunnat, vakiKunnat, how='inner', left_on=\"kunta\", right_on=\"alue\")"
   ]
  },
  {
   "cell_type": "code",
   "execution_count": null,
   "metadata": {},
   "outputs": [],
   "source": [
    "vakiKunnat3.columns"
   ]
  },
  {
   "cell_type": "code",
   "execution_count": null,
   "metadata": {
    "collapsed": true
   },
   "outputs": [],
   "source": [
    "vakiKunnat3=vakiKunnat2[vakiKunnat2['ika']=='Ikäluokat yhteensä']\n",
    "vakiKunnat3=vakiKunnat3[['vuosi_y', 'alue_y', 'geometry', 'vaesto']]\n",
    "vakiKunnat3.columns=['vuosi', 'alue', 'geometry', 'vaesto']\n",
    "#vaestoVuosi=\n",
    "vaestoVuosi=pd.DataFrame(np.array(vakiKunnat3.groupby(['vuosi']).sum()))\n",
    "vaestoVuosi['vuosi_y']=np.array(np.arange(1972, 2017, 1))\n",
    "vaestoVuosi.columns=['vaestov','vuosi']\n"
   ]
  },
  {
   "cell_type": "code",
   "execution_count": null,
   "metadata": {},
   "outputs": [],
   "source": [
    "for i in np.arange(2016, 2017, 1):\n",
    "    plotName=\"pks\" + np.str(i) + \".png\"\n",
    "    plotteri=vakiKunnat3[vakiKunnat3[\"vuosi\"]==i]\n",
    "    fi=plotteri.plot(column='vaesto',scheme='fisher_jenks', k=3, cmap='viridis')\n",
    "    fi.set_facecolor('black')   \n",
    "    fi.axis('off')\n",
    "    plt.savefig(plotName, bbox_inches='tight')"
   ]
  },
  {
   "cell_type": "code",
   "execution_count": null,
   "metadata": {},
   "outputs": [],
   "source": [
    "#import geopandas as \n",
    "stops = gpd.read_file(r'HSL_pysäkit\\HSLn_pysäkit.shp')\n",
    "stops=stops.to_crs({'init': 'epsg:3067'})\n",
    "base=kunnat.plot(color='white', edgecolor='black')\n",
    "base.set_xlim(left=350000, right=420000)\n",
    "base.set_ylim(6650000, 6710000)\n",
    "stops.plot(ax=base, alpha=0.1)\n",
    "plt.axis('off')\n",
    "\n",
    "plt.savefig('hslpysakit', bbox_inches='tight')"
   ]
  },
  {
   "cell_type": "code",
   "execution_count": null,
   "metadata": {},
   "outputs": [],
   "source": [
    "base=kunnat3.plot(color='white', edgecolor='black')\n",
    "base.set_xlim(left=350000, right=420000)\n",
    "base.set_ylim(6650000, 6710000)\n",
    "testi.plot(ax=base, alpha=0.1)\n",
    "plt.axis('off')"
   ]
  }
 ],
 "metadata": {
  "kernelspec": {
   "display_name": "venv",
   "language": "python",
   "name": "venv"
  },
  "language_info": {
   "codemirror_mode": {
    "name": "ipython",
    "version": 3
   },
   "file_extension": ".py",
   "mimetype": "text/x-python",
   "name": "python",
   "nbconvert_exporter": "python",
   "pygments_lexer": "ipython3",
   "version": "3.4.3"
  }
 },
 "nbformat": 4,
 "nbformat_minor": 2
}
